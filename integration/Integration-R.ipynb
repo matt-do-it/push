{
 "cells": [
  {
   "cell_type": "code",
   "execution_count": 8,
   "id": "eaebee86-74e0-483c-b2a8-3923af397ad2",
   "metadata": {},
   "outputs": [
    {
     "ename": "ERROR",
     "evalue": "Error in library(arrow): es gibt kein Paket namens ‘arrow’\n",
     "output_type": "error",
     "traceback": [
      "Error in library(arrow): es gibt kein Paket namens ‘arrow’\nTraceback:\n",
      "1. library(arrow)"
     ]
    }
   ],
   "source": [
    "library(arrow)\n",
    "\n",
    "df = data.frame(\n",
    "    date = c(\"2024-07-01\", \"2024-07-01\", \"2024-04-01\", \"2024-04-01\", \"2024-01-01\", \"2024-01-01\"),\n",
    "    group = c(\"Group A\", \"Group B\", \"Group A\", \"Group B\", \"Group A\", \"Group B\"),\n",
    "    value = c(500, 700, 200, 300, 100, 700)\n",
    ");\n",
    "\n",
    "arrowTable <- arrow_table(my_tibble)\n",
    "buffer(arrowTable)\n",
    "\n",
    "PushSummaryWidget(value=serialized)"
   ]
  },
  {
   "cell_type": "code",
   "execution_count": null,
   "id": "7e48ceda-5113-4e0e-8a6c-fad70e0cd226",
   "metadata": {},
   "outputs": [],
   "source": []
  },
  {
   "cell_type": "code",
   "execution_count": null,
   "id": "d64182e5-0d3b-4b0b-a056-1a6f09ecf65c",
   "metadata": {},
   "outputs": [],
   "source": []
  }
 ],
 "metadata": {
  "kernelspec": {
   "display_name": "R",
   "language": "R",
   "name": "ir"
  },
  "language_info": {
   "codemirror_mode": "r",
   "file_extension": ".r",
   "mimetype": "text/x-r-source",
   "name": "R",
   "pygments_lexer": "r",
   "version": "4.4.1"
  }
 },
 "nbformat": 4,
 "nbformat_minor": 5
}
