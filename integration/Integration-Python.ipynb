{
 "cells": [
  {
   "cell_type": "code",
   "execution_count": 4,
   "id": "eaebee86-74e0-483c-b2a8-3923af397ad2",
   "metadata": {},
   "outputs": [
    {
     "data": {
      "application/vnd.jupyter.widget-view+json": {
       "model_id": "e3935c73107a4b88b2f0abdc261f8772",
       "version_major": 2,
       "version_minor": 1
      },
      "text/plain": [
       "PushSummaryWidget(value=<memory at 0x114336e00>)"
      ]
     },
     "execution_count": 4,
     "metadata": {},
     "output_type": "execute_result"
    }
   ],
   "source": [
    "import anywidget\n",
    "import traitlets\n",
    "import pandas\n",
    "import ipywidgets\n",
    "import pyarrow as pa\n",
    "import push_summary\n",
    "\n",
    "d = [\n",
    "            {\n",
    "              'date': \"2024-07-01\",\n",
    "              'group': \"Group A\",\n",
    "              'value': 500,\n",
    "            },\n",
    "            {\n",
    "              'date': \"2024-07-01\",\n",
    "              'group': \"Group B\",\n",
    "              'value': 700,\n",
    "            },\n",
    "            {\n",
    "              'date': \"2024-04-01\",\n",
    "              'group': \"Group A\",\n",
    "              'value': 200,\n",
    "            },\n",
    "            {\n",
    "              'date': \"2024-04-01\",\n",
    "              'group': \"Group B\",\n",
    "              'value': 300,\n",
    "            },\n",
    "            {\n",
    "              'date': \"2024-01-01\",\n",
    "              'group': \"Group A\",\n",
    "              'value': 100,\n",
    "            },\n",
    "            {\n",
    "              'date': \"2024-01-01\",\n",
    "              'group': \"Group B\",\n",
    "              'value': 700,\n",
    "            },\n",
    "          ];\n",
    "\n",
    "\n",
    "def serialize_table(table: pa.Table):\n",
    "    sink = pa.BufferOutputStream()\n",
    "    writer = pa.RecordBatchStreamWriter(sink, table.schema)\n",
    "    writer.write_table(table)\n",
    "    writer.close()\n",
    "    return sink.getvalue().to_pybytes()\n",
    "\n",
    "df = pandas.DataFrame(\n",
    "    data = d\n",
    ")\n",
    "df['value'] = (df['value']).astype('int32')\n",
    "\n",
    "arrowTable = pa.Table.from_pandas(df)\n",
    "serialized = serialize_table(arrowTable)\n",
    "\n",
    "class PushSummaryWidget(anywidget.AnyWidget):\n",
    "    _esm = \"index.js\"\n",
    "    _css = \"index.css\"\n",
    "\n",
    "    value = ipywidgets.widgets.trait_types.CByteMemoryView().tag(sync=True)\n",
    "\n",
    "\n",
    "PushSummaryWidget(value=serialized)"
   ]
  },
  {
   "cell_type": "code",
   "execution_count": null,
   "id": "7e48ceda-5113-4e0e-8a6c-fad70e0cd226",
   "metadata": {},
   "outputs": [],
   "source": []
  }
 ],
 "metadata": {
  "kernelspec": {
   "display_name": "Python 3 (ipykernel)",
   "language": "python",
   "name": "python3"
  },
  "language_info": {
   "codemirror_mode": {
    "name": "ipython",
    "version": 3
   },
   "file_extension": ".py",
   "mimetype": "text/x-python",
   "name": "python",
   "nbconvert_exporter": "python",
   "pygments_lexer": "ipython3",
   "version": "3.11.10"
  }
 },
 "nbformat": 4,
 "nbformat_minor": 5
}
