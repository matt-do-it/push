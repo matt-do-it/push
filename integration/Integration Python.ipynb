{
 "cells": [
  {
   "cell_type": "markdown",
   "id": "3e308613-af40-418d-b825-65abb6aee2c4",
   "metadata": {},
   "source": [
    "# Sample integration of push framework"
   ]
  },
  {
   "cell_type": "code",
   "execution_count": 4,
   "id": "a939d7bf-4e54-4478-93a1-824db0328be1",
   "metadata": {
    "jupyter": {
     "source_hidden": true
    }
   },
   "outputs": [
    {
     "data": {
      "application/vnd.jupyter.widget-view+json": {
       "model_id": "a97abedd4bb74cc09c853d5517ca4ecd",
       "version_major": 2,
       "version_minor": 1
      },
      "text/plain": [
       "PushSummaryWidget(groupColumns=['date'], rollup={'value': 'op.sum(d.value)'}, value=<memory at 0x137118940>)"
      ]
     },
     "execution_count": 4,
     "metadata": {},
     "output_type": "execute_result"
    }
   ],
   "source": [
    "import pandas as pd\n",
    "import pyarrow as pa\n",
    "\n",
    "from push_summary.helpers import serialize_table\n",
    "from push_summary.push_summary import PushSummaryWidget\n",
    "\n",
    "d = [\n",
    "    {\n",
    "      'date': \"2024-07-01\",\n",
    "      'group': \"Group A\",\n",
    "      'value': 800,\n",
    "    },\n",
    "    {\n",
    "      'date': \"2024-07-01\",\n",
    "      'group': \"Group B\",\n",
    "      'value': 700,\n",
    "    },\n",
    "    {\n",
    "      'date': \"2024-04-01\",\n",
    "      'group': \"Group A\",\n",
    "      'value': 200,\n",
    "    },\n",
    "    {\n",
    "      'date': \"2024-04-01\",\n",
    "      'group': \"Group B\",\n",
    "      'value': 300,\n",
    "    },\n",
    "    {\n",
    "      'date': \"2024-01-01\",\n",
    "      'group': \"Group A\",\n",
    "      'value': 100,\n",
    "    },\n",
    "    {\n",
    "      'date': \"2024-01-01\",\n",
    "      'group': \"Group B\",\n",
    "      'value': 700,\n",
    "    },\n",
    "];\n",
    "\n",
    "df = pd.DataFrame(\n",
    "    data = d\n",
    ")\n",
    "df['value'] = (df['value']).astype('int32')\n",
    "\n",
    "PushSummaryWidget(value=serialize_table(pa.Table.from_pandas(df)))"
   ]
  }
 ],
 "metadata": {
  "kernelspec": {
   "display_name": "Python 3 (ipykernel)",
   "language": "python",
   "name": "python3"
  },
  "language_info": {
   "codemirror_mode": {
    "name": "ipython",
    "version": 3
   },
   "file_extension": ".py",
   "mimetype": "text/x-python",
   "name": "python",
   "nbconvert_exporter": "python",
   "pygments_lexer": "ipython3",
   "version": "3.9.6"
  }
 },
 "nbformat": 4,
 "nbformat_minor": 5
}
